{
 "cells": [
  {
   "cell_type": "markdown",
   "id": "c4c096ec",
   "metadata": {},
   "source": [
    "# Procesamiento del Lenguaje Natural\n",
    "\n",
    "Nombres: Te Chen y Kenneth Contreras"
   ]
  },
  {
   "cell_type": "markdown",
   "id": "b9fd196f",
   "metadata": {},
   "source": [
    "\n",
    "\n",
    "El Procesamiento del Lenguaje Natural (NPL) por sus siglas en inglés: Natural Processing Language, se enfoca en imitar la capacidad humana de interpretación lingüística de idiomas específicos para que estos puedan ser leídos o interpretados por una computadora, por lo que los productos generales del NPL son producir Entendimiento del Lenguaje Natural y Generación de Lenguaje Natural, esto entregado a través de texto o diálogos (Linguamatics, s.f.).\n",
    "\n",
    "El NPL, es una rama del Aprendizaje Automático(AA) e Inteligencia Artificial (IA), siendo estas dos analizadas y aplicadas desde enfoques distintos, pero que se nutren una de la otra. Donde se busca crear un módulos de interpretación de textos usando diferentes enfoques como búsqueda (search) o aprendizaje (learning), este último para resolver problemas que requieren un enfoque más holístico, con el fin de ser usado en diversas aplicaciones como traducción entre idiomas, conversaciones, resumen de libros o artículos, sintetización de ideas que pueden venir de textos o de forma oral, recibir instrucciones para realizar tareas ó incluso mantener conversaciones, este último se beneficia de herramientas como la prueba de Turing para medir la calidad del resultado.\n",
    "\n",
    "El NLP y La Lingüística computacional se encuentran estrechamente relacionados. La lingüística computacional es el área de la ciencia computacional que utiliza modelos lingüísticos que vienen de diferentes disciplinas  científicas, más el uso de modelos estadísticos. El NLP puede usar como base esta área, pero va más allá en sus fines de manera de que pueda producir resultados basados en objetivos de producción. \n",
    "\n"
   ]
  },
  {
   "cell_type": "markdown",
   "id": "b3870282",
   "metadata": {},
   "source": [
    "### Aplicaciones del AA"
   ]
  },
  {
   "cell_type": "markdown",
   "id": "400d9668",
   "metadata": {},
   "source": [
    "Entendemos entonces que el NLP está enfocado en el diseño y análisis de algoritmos computacionales y representaciones para procesar el lenguaje humano. El NLP posee características que trascienden otras aplicaciones del AA como por ejemplo:\n",
    "\n",
    "- Texto: en el texto el NLP entiende que el significado es creado por arreglos de unidades simbólicas, estas unidades simbólicas van desde letras hasta palabras. El análisis de texto puede utilizar herramientas como text mining que ayuda a transformar mediante algoritmos, grandes colecciones de texto, identificando: hechos, relaciones y aserciones, una vez extraídos permite crear colecciones de matrices, mapas mentales y gráficos (Linguamatics, s.f.).\n",
    "\n",
    "- Frecuencia estadística de aparición de estructuras lingüísticas: Esta característica es explorada a través de la creación de jerarquías que pueden ser obtenidas a través del uso de redes neuronales y algoritmos no supervisados de AA, donde se la jerarquía de significado ayuda a predecir o clarificar palabras en contextos específicos. El modelo busca especificar de forma explícita jerarquías que determinan un contexto. Por lo que hablamos de modelos de ensamblaje clasificados y de regresión mixtos (Manning, 2020).  \n",
    "\n",
    "- Combinaciones Semánticas: La estructura y significado del lenguaje dependen de la composición de unidades de palabras y de un contexto. La composicionalidad natural del lenguaje permite crear complejas estructuras semánticas de combinaciones semánticas más simples, por lo que el orden de las estructuras están interrelacionadas entre sí y depende de los diferentes pesos de sus estructuras internas (Zhiyuan Liu, 2020).\n",
    "\n"
   ]
  },
  {
   "cell_type": "markdown",
   "id": "eebd076b",
   "metadata": {},
   "source": [
    "La inteligencia artificial que estudia NLP busca resolver problemas como el significado de una oración, por ejemplo, el Winograd Schemas Challenge, que se trata de esquemas de dos oraciones que difieren en solo una o dos palabras y que requieren del uso de conocimiento general y razonamiento para su interpretación, por lo que su objetivo es desambiguar significados para que sean de fácil lectura y comunicación para una computadora. Mediante el uso de anáforas y catáforas el modelo averigua el antecedente en el caso de anáforas y el precedente en el caso de catáforas para darle un sentido contextual a una combinación sintáctica (University of York, s.f.).  \n",
    "\n",
    "Otra área de investigación de la IA es el uso del sentido común automatizado, obteniendo indicadores de sentido común adquiridos a través métodos extractivos o crowdsourcing, y ha obtenido resultados como habilidades para resolver problemas como el desarrollo de diálogo más inteligente y agentes de respuesta a preguntas (Maarten Sap).\n",
    "\n",
    "Un método de AA para NLP es el algoritmo de Backpropagation, donde este ayuda al entrenamiento de redes neuronales, este calcula el gradiente de la función de pérdida con respecto a los pesos de una red neuronal de solo una salida, lo que la hace muy útil para el entrenamiento de redes neuronales multicapa, estos sirven para obtener modelos gráficos, y que pueden ser mezclados con otras aplicaciones de la IA  (Eisenstein, 2018). Otro algoritmo usado es el Optimización Combinatoria, donde se busca igualmente una función de optimización a través de crear un objetivo en una configuración especial extendida a través de la búsqueda de máximos y mínimos locales e igualmente técnicas de paralelización. \n",
    "\n",
    "Cuando un modelo es capaz de hacer distinciones lingüísticas que podrían ser sutiles se habla de expresividad, la expresividad puede required alta capacidad computacional lo que hace que se tenga que evaluar la eficiencia entre usar módulos de búsqueda (search) o aprendizaje (learning). La expresividad hace que problemas de mayor complejidad sea más dependiente de módulos de búsqueda, más la cantidad de datos que se requiere para procesar."
   ]
  },
  {
   "cell_type": "markdown",
   "id": "b4a36bde",
   "metadata": {},
   "source": [
    "## Ejemplos básicos de NLP con NLTK"
   ]
  },
  {
   "cell_type": "markdown",
   "id": "976583d6",
   "metadata": {},
   "source": [
    "En esta sección se a va a presentar diferentes ejemplos utilizando la biblioteca NLTK, estos ejemplos fueron basados y tomados de la página Towards AI:"
   ]
  },
  {
   "cell_type": "markdown",
   "id": "3beba9b8",
   "metadata": {},
   "source": [
    "Primer importamos las bibliotecas que se va a utilizar para los ejemplos:"
   ]
  },
  {
   "cell_type": "code",
   "execution_count": 1,
   "id": "4ccc50df",
   "metadata": {},
   "outputs": [],
   "source": [
    "import nltk\n",
    "from nltk import sent_tokenize\n",
    "from nltk import word_tokenize\n",
    "from nltk.probability import FreqDist\n",
    "from nltk.corpus import stopwords\n",
    "from nltk.corpus import treebank\n",
    "\n",
    "import matplotlib.pyplot as plt\n",
    "import random"
   ]
  },
  {
   "cell_type": "markdown",
   "id": "ebc49d17",
   "metadata": {},
   "source": [
    "Utilizamos el siguiente texto para realizar las pruebas:"
   ]
  },
  {
   "cell_type": "code",
   "execution_count": 2,
   "id": "e574262e",
   "metadata": {},
   "outputs": [
    {
     "name": "stdout",
     "output_type": "stream",
     "text": [
      "Natural language processing (NLP) refers to the branch of computer science—and more specifically, the branch of artificial intelligence or AI—concerned with giving computers the ability to understand text and spoken words in much the same way human beings can.\n"
     ]
    }
   ],
   "source": [
    "text = '''Natural language processing (NLP) refers to the branch of computer science—and more specifically, the branch of artificial intelligence or AI—concerned with giving computers the ability to understand text and spoken words in much the same way human beings can.'''\n",
    "print(text)"
   ]
  },
  {
   "cell_type": "markdown",
   "id": "40785efc",
   "metadata": {},
   "source": [
    "Al tokenizar el texto con sent_tokenize( ), podemos obtener el texto en forma de frases como se puede ver en el siguiente bloque:"
   ]
  },
  {
   "cell_type": "markdown",
   "id": "7fd2aea8",
   "metadata": {},
   "source": [
    "#### Tokenizar"
   ]
  },
  {
   "cell_type": "code",
   "execution_count": 3,
   "id": "37dd441e",
   "metadata": {},
   "outputs": [
    {
     "data": {
      "text/plain": [
       "['Natural language processing (NLP) refers to the branch of computer science—and more specifically, the branch of artificial intelligence or AI—concerned with giving computers the ability to understand text and spoken words in much the same way human beings can.']"
      ]
     },
     "execution_count": 3,
     "metadata": {},
     "output_type": "execute_result"
    }
   ],
   "source": [
    "#Tokenizar el texto por frases\n",
    "sentences = sent_tokenize(text)\n",
    "\n",
    "#Imprimir las oraciones\n",
    "sentences"
   ]
  },
  {
   "cell_type": "markdown",
   "id": "d641ee22",
   "metadata": {},
   "source": [
    "También se puede tokenizar el texto con word_tokenize( ),es decir obtener el texto como palabras:"
   ]
  },
  {
   "cell_type": "code",
   "execution_count": 4,
   "id": "ee7141e2",
   "metadata": {},
   "outputs": [
    {
     "name": "stdout",
     "output_type": "stream",
     "text": [
      "['Natural', 'language', 'processing', '(', 'NLP', ')', 'refers', 'to', 'the', 'branch', 'of', 'computer', 'science—and', 'more', 'specifically', ',', 'the', 'branch', 'of', 'artificial', 'intelligence', 'or', 'AI—concerned', 'with', 'giving', 'computers', 'the', 'ability', 'to', 'understand', 'text', 'and', 'spoken', 'words', 'in', 'much', 'the', 'same', 'way', 'human', 'beings', 'can', '.']\n",
      "Cantidad de palabras: 43\n"
     ]
    }
   ],
   "source": [
    "#Tokenizar el texto por palabras\n",
    "words = word_tokenize(text)\n",
    "\n",
    "print(words)\n",
    "\n",
    "print(\"Cantidad de palabras:\", len(words))"
   ]
  },
  {
   "cell_type": "markdown",
   "id": "63a2bf56",
   "metadata": {},
   "source": [
    "Se puede usar la función FreqDist para revisar la frecuencia de las palabras en el texto."
   ]
  },
  {
   "cell_type": "markdown",
   "id": "970e40a9",
   "metadata": {},
   "source": [
    "#### Frecuencia"
   ]
  },
  {
   "cell_type": "code",
   "execution_count": 5,
   "id": "6129fe4e",
   "metadata": {},
   "outputs": [
    {
     "data": {
      "text/plain": [
       "[('the', 4), ('to', 2), ('branch', 2)]"
      ]
     },
     "execution_count": 5,
     "metadata": {},
     "output_type": "execute_result"
    }
   ],
   "source": [
    "#Encontrar la frecuencia\n",
    "fdist = FreqDist(words)\n",
    "\n",
    "#Imprimir las 3 palabras más comunes del texto \n",
    "fdist.most_common(3)"
   ]
  },
  {
   "cell_type": "code",
   "execution_count": 6,
   "id": "d19dd0c5",
   "metadata": {},
   "outputs": [
    {
     "data": {
      "image/png": "[encoded data removed]",
      "text/plain": [
       "<Figure size 432x288 with 1 Axes>"
      ]
     },
     "metadata": {
      "needs_background": "light"
     },
     "output_type": "display_data"
    },
    {
     "data": {
      "text/plain": [
       "<AxesSubplot:xlabel='Samples', ylabel='Counts'>"
      ]
     },
     "execution_count": 6,
     "metadata": {},
     "output_type": "execute_result"
    }
   ],
   "source": [
    "#También lo podemos graficar :\n",
    "fdist.plot(10)"
   ]
  },
  {
   "cell_type": "markdown",
   "id": "68fe5596",
   "metadata": {},
   "source": [
    "En el gráfico anterior, se uede ver que \"(\" se utlizó una vez en el texto, normalmente los signos no son tan relevantes para el procesamiento del lenguaje natural. Y lo vamos a eliminar en el siguiente bloque"
   ]
  },
  {
   "cell_type": "markdown",
   "id": "b4263e49",
   "metadata": {},
   "source": [
    "#### Eliminar los signos"
   ]
  },
  {
   "cell_type": "code",
   "execution_count": 7,
   "id": "7c0eb30b",
   "metadata": {},
   "outputs": [
    {
     "name": "stdout",
     "output_type": "stream",
     "text": [
      "['natural', 'language', 'processing', 'nlp', 'refers', 'to', 'the', 'branch', 'of', 'computer', 'more', 'specifically', 'the', 'branch', 'of', 'artificial', 'intelligence', 'or', 'with', 'giving', 'computers', 'the', 'ability', 'to', 'understand', 'text', 'and', 'spoken', 'words', 'in', 'much', 'the', 'same', 'way', 'human', 'beings', 'can']\n"
     ]
    }
   ],
   "source": [
    "#Inicializar la lista\n",
    "words_no_punc = []\n",
    "\n",
    "#Eliminar los signos\n",
    "for w in words:\n",
    "    if w.isalpha():\n",
    "        words_no_punc.append(w.lower())\n",
    "        \n",
    "#imprimir las palabras que no son signos :\n",
    "print (words_no_punc)"
   ]
  },
  {
   "cell_type": "markdown",
   "id": "0deb456e",
   "metadata": {},
   "source": [
    "Como se puede observar anteriormente,ahora hay menos cantidad de palabras que antes. "
   ]
  },
  {
   "cell_type": "markdown",
   "id": "a5e4ea20",
   "metadata": {},
   "source": [
    "Las StopWords se conocen como palabras vacías, estas hacen referencia a aquellas palabras que no están registradas por los robots de Google, las cuales carecen de sentido cuando se escriben solas o sin la palabra clave o keyword. La biblioteca NLTK tiene una función que nos puede ayudar a limpiar aquellas palabras que son de StopWords"
   ]
  },
  {
   "cell_type": "markdown",
   "id": "a50fd9b9",
   "metadata": {},
   "source": [
    "#### Stopwords"
   ]
  },
  {
   "cell_type": "code",
   "execution_count": 8,
   "id": "1d7bdff0",
   "metadata": {},
   "outputs": [
    {
     "name": "stdout",
     "output_type": "stream",
     "text": [
      "['i', 'me', 'my', 'myself', 'we', 'our', 'ours', 'ourselves', 'you', \"you're\", \"you've\", \"you'll\", \"you'd\", 'your', 'yours', 'yourself', 'yourselves', 'he', 'him', 'his', 'himself', 'she', \"she's\", 'her', 'hers', 'herself', 'it', \"it's\", 'its', 'itself', 'they', 'them', 'their', 'theirs', 'themselves', 'what', 'which', 'who', 'whom', 'this', 'that', \"that'll\", 'these', 'those', 'am', 'is', 'are', 'was', 'were', 'be', 'been', 'being', 'have', 'has', 'had', 'having', 'do', 'does', 'did', 'doing', 'a', 'an', 'the', 'and', 'but', 'if', 'or', 'because', 'as', 'until', 'while', 'of', 'at', 'by', 'for', 'with', 'about', 'against', 'between', 'into', 'through', 'during', 'before', 'after', 'above', 'below', 'to', 'from', 'up', 'down', 'in', 'out', 'on', 'off', 'over', 'under', 'again', 'further', 'then', 'once', 'here', 'there', 'when', 'where', 'why', 'how', 'all', 'any', 'both', 'each', 'few', 'more', 'most', 'other', 'some', 'such', 'no', 'nor', 'not', 'only', 'own', 'same', 'so', 'than', 'too', 'very', 's', 't', 'can', 'will', 'just', 'don', \"don't\", 'should', \"should've\", 'now', 'd', 'll', 'm', 'o', 're', 've', 'y', 'ain', 'aren', \"aren't\", 'couldn', \"couldn't\", 'didn', \"didn't\", 'doesn', \"doesn't\", 'hadn', \"hadn't\", 'hasn', \"hasn't\", 'haven', \"haven't\", 'isn', \"isn't\", 'ma', 'mightn', \"mightn't\", 'mustn', \"mustn't\", 'needn', \"needn't\", 'shan', \"shan't\", 'shouldn', \"shouldn't\", 'wasn', \"wasn't\", 'weren', \"weren't\", 'won', \"won't\", 'wouldn', \"wouldn't\"]\n"
     ]
    }
   ],
   "source": [
    "#Lista de stopwords\n",
    "stopwords = stopwords.words(\"english\")\n",
    "print (stopwords)"
   ]
  },
  {
   "cell_type": "code",
   "execution_count": 9,
   "id": "005ed131",
   "metadata": {},
   "outputs": [
    {
     "name": "stdout",
     "output_type": "stream",
     "text": [
      "['natural', 'language', 'processing', 'nlp', 'refers', 'branch', 'computer', 'specifically', 'branch', 'artificial', 'intelligence', 'giving', 'computers', 'ability', 'understand', 'text', 'spoken', 'words', 'much', 'way', 'human', 'beings']\n"
     ]
    }
   ],
   "source": [
    "#Inicializar la lista\n",
    "clean_words = []\n",
    "for w in words_no_punc:\n",
    "    if w not in stopwords:\n",
    "        clean_words.append (w)\n",
    "print(clean_words)"
   ]
  },
  {
   "cell_type": "markdown",
   "id": "870c8590",
   "metadata": {},
   "source": [
    "Esta biblioteca también tiene una función que nos ayuda a equitar las palarbas como se puede ver en el siguiente bloque:"
   ]
  },
  {
   "cell_type": "markdown",
   "id": "d77219ee",
   "metadata": {},
   "source": [
    "#### Etiquetar palabras e identificar las entidades"
   ]
  },
  {
   "cell_type": "code",
   "execution_count": 10,
   "id": "1e92cffa",
   "metadata": {},
   "outputs": [
    {
     "name": "stdout",
     "output_type": "stream",
     "text": [
      "[('natural', 'JJ'), ('language', 'NN'), ('processing', 'NN'), ('nlp', 'JJ'), ('refers', 'NNS'), ('branch', 'VBP'), ('computer', 'NN'), ('specifically', 'RB'), ('branch', 'JJ'), ('artificial', 'JJ'), ('intelligence', 'NN'), ('giving', 'VBG'), ('computers', 'NNS'), ('ability', 'NN'), ('understand', 'VBP'), ('text', 'NN'), ('spoken', 'NN'), ('words', 'NNS'), ('much', 'JJ'), ('way', 'NN'), ('human', 'JJ'), ('beings', 'NNS')]\n"
     ]
    }
   ],
   "source": [
    "#Etiquetar palabras\n",
    "tagged = nltk.pos_tag(clean_words)\n",
    "print(tagged)"
   ]
  },
  {
   "cell_type": "markdown",
   "id": "33f35fdf",
   "metadata": {},
   "source": [
    "Las etiquetas son útiles para construir árboles de análisis sintáctico, que se utilizan en la construcción de NER (la mayoría de las entidades son sustantivos) y para extraer las relaciones entre las palabras. El etiquetado POS también es esencial para construir lematizadores que se utilizan para reducir una palabra a su forma raíz."
   ]
  },
  {
   "cell_type": "code",
   "execution_count": 11,
   "id": "ca81d018",
   "metadata": {},
   "outputs": [
    {
     "name": "stdout",
     "output_type": "stream",
     "text": [
      "(S\n",
      "  natural/JJ\n",
      "  language/NN\n",
      "  processing/NN\n",
      "  nlp/JJ\n",
      "  refers/NNS\n",
      "  branch/VBP\n",
      "  computer/NN\n",
      "  specifically/RB\n",
      "  branch/JJ\n",
      "  artificial/JJ\n",
      "  intelligence/NN\n",
      "  giving/VBG\n",
      "  computers/NNS\n",
      "  ability/NN\n",
      "  understand/VBP\n",
      "  text/NN\n",
      "  spoken/NN\n",
      "  words/NNS\n",
      "  much/JJ\n",
      "  way/NN\n",
      "  human/JJ\n",
      "  beings/NNS)\n"
     ]
    }
   ],
   "source": [
    "#Identificar las palabras\n",
    "entities = nltk.chunk.ne_chunk(tagged)\n",
    "print(entities)"
   ]
  },
  {
   "cell_type": "markdown",
   "id": "75a56f61",
   "metadata": {},
   "source": [
    "También se puede desplejar como un árbol de sintáctico"
   ]
  },
  {
   "cell_type": "code",
   "execution_count": 12,
   "id": "25e9f55c",
   "metadata": {},
   "outputs": [],
   "source": [
    "t = treebank.parsed_sents('wsj_0001.mrg')[0]\n",
    "t.draw()"
   ]
  },
  {
   "cell_type": "markdown",
   "id": "e2fb70df",
   "metadata": {},
   "source": [
    "## Ejemplo de NLP en sentimiento de análisis"
   ]
  },
  {
   "cell_type": "markdown",
   "id": "621108a0",
   "metadata": {},
   "source": [
    "Actualmente se escucha mucho de análisis de sentimiento ya sea en redes sociales o comentarios. Según la página Digital Guide IONOS, el análisis de sentimiento se basa en la evaluación automatizada de los comentarios de los usuarios para determinar si un texto se ha escrito con una intención positiva o negativa. Para ello, se usa la minería de textos, es decir, el análisis automático de textos escritos en lenguaje natural.\n",
    "\n",
    "NLP es un componente muy importante para la parte de análisis de sentimiento, ya que nos ayuda a resolver la ambigüedad del lenguaje, comunicar con los humanos y también escalar otras tareas relacionadas con el lenguaje.\n",
    "\n",
    "El siguiente ejemplo se utilizará el conjunto de datos \"Trip advisor reviews sentiment analysis\" con el objetivo de predecir si el comentario de un usuario estará dentro del rango 1 a 5, 1 siendo nagativo y 5 positivo. Este conjunto de datos solo tienen dos atributos que son review y rating. (Link:https://www.kaggle.com/code/wiktorbrk/trip-advisor-reviews-sentiment-analysis/data)(Nota: El siguiente ejemplo es una versión de mejora de un proyecto realizado por Te en la universidad)"
   ]
  },
  {
   "cell_type": "code",
   "execution_count": 13,
   "id": "3d034f62",
   "metadata": {},
   "outputs": [
    {
     "name": "stderr",
     "output_type": "stream",
     "text": [
      "[nltk_data] Downloading package stopwords to /home/te/nltk_data...\n",
      "[nltk_data]   Package stopwords is already up-to-date!\n"
     ]
    }
   ],
   "source": [
    "import numpy as np\n",
    "import pandas as pd\n",
    "import torch\n",
    "import torch.nn as nn\n",
    "import torch.nn.functional as F\n",
    "import nltk\n",
    "from nltk.corpus import stopwords \n",
    "nltk.download('stopwords')\n",
    "from collections import Counter\n",
    "import string\n",
    "import re\n",
    "import sklearn\n",
    "import seaborn as sns\n",
    "from tqdm import tqdm\n",
    "import matplotlib.pyplot as plt\n",
    "from torch.utils.data import TensorDataset, DataLoader\n",
    "from sklearn.model_selection import train_test_split\n",
    "is_cuda = torch.cuda.is_available()\n",
    "device = torch.device(\"cpu\")"
   ]
  },
  {
   "cell_type": "code",
   "execution_count": 14,
   "id": "2baec133",
   "metadata": {},
   "outputs": [
    {
     "data": {
      "text/html": [
       "<div>\n",
       "<style scoped>\n",
       "    .dataframe tbody tr th:only-of-type {\n",
       "        vertical-align: middle;\n",
       "    }\n",
       "\n",
       "    .dataframe tbody tr th {\n",
       "        vertical-align: top;\n",
       "    }\n",
       "\n",
       "    .dataframe thead th {\n",
       "        text-align: right;\n",
       "    }\n",
       "</style>\n",
       "<table border=\"1\" class=\"dataframe\">\n",
       "  <thead>\n",
       "    <tr style=\"text-align: right;\">\n",
       "      <th></th>\n",
       "      <th>Review</th>\n",
       "      <th>Rating</th>\n",
       "    </tr>\n",
       "  </thead>\n",
       "  <tbody>\n",
       "    <tr>\n",
       "      <th>0</th>\n",
       "      <td>nice hotel expensive parking got good deal sta...</td>\n",
       "      <td>4</td>\n",
       "    </tr>\n",
       "    <tr>\n",
       "      <th>1</th>\n",
       "      <td>ok nothing special charge diamond member hilto...</td>\n",
       "      <td>2</td>\n",
       "    </tr>\n",
       "    <tr>\n",
       "      <th>2</th>\n",
       "      <td>nice rooms not 4* experience hotel monaco seat...</td>\n",
       "      <td>3</td>\n",
       "    </tr>\n",
       "    <tr>\n",
       "      <th>3</th>\n",
       "      <td>unique, great stay, wonderful time hotel monac...</td>\n",
       "      <td>5</td>\n",
       "    </tr>\n",
       "    <tr>\n",
       "      <th>4</th>\n",
       "      <td>great stay great stay, went seahawk game aweso...</td>\n",
       "      <td>5</td>\n",
       "    </tr>\n",
       "    <tr>\n",
       "      <th>...</th>\n",
       "      <td>...</td>\n",
       "      <td>...</td>\n",
       "    </tr>\n",
       "    <tr>\n",
       "      <th>20486</th>\n",
       "      <td>best kept secret 3rd time staying charm, not 5...</td>\n",
       "      <td>5</td>\n",
       "    </tr>\n",
       "    <tr>\n",
       "      <th>20487</th>\n",
       "      <td>great location price view hotel great quick pl...</td>\n",
       "      <td>4</td>\n",
       "    </tr>\n",
       "    <tr>\n",
       "      <th>20488</th>\n",
       "      <td>ok just looks nice modern outside, desk staff ...</td>\n",
       "      <td>2</td>\n",
       "    </tr>\n",
       "    <tr>\n",
       "      <th>20489</th>\n",
       "      <td>hotel theft ruined vacation hotel opened sept ...</td>\n",
       "      <td>1</td>\n",
       "    </tr>\n",
       "    <tr>\n",
       "      <th>20490</th>\n",
       "      <td>people talking, ca n't believe excellent ratin...</td>\n",
       "      <td>2</td>\n",
       "    </tr>\n",
       "  </tbody>\n",
       "</table>\n",
       "<p>20491 rows × 2 columns</p>\n",
       "</div>"
      ],
      "text/plain": [
       "                                                  Review  Rating\n",
       "0      nice hotel expensive parking got good deal sta...       4\n",
       "1      ok nothing special charge diamond member hilto...       2\n",
       "2      nice rooms not 4* experience hotel monaco seat...       3\n",
       "3      unique, great stay, wonderful time hotel monac...       5\n",
       "4      great stay great stay, went seahawk game aweso...       5\n",
       "...                                                  ...     ...\n",
       "20486  best kept secret 3rd time staying charm, not 5...       5\n",
       "20487  great location price view hotel great quick pl...       4\n",
       "20488  ok just looks nice modern outside, desk staff ...       2\n",
       "20489  hotel theft ruined vacation hotel opened sept ...       1\n",
       "20490  people talking, ca n't believe excellent ratin...       2\n",
       "\n",
       "[20491 rows x 2 columns]"
      ]
     },
     "execution_count": 14,
     "metadata": {},
     "output_type": "execute_result"
    }
   ],
   "source": [
    "#Leer los datos\n",
    "csv = 'tripadvisor_hotel_reviews.csv'\n",
    "df = pd.read_csv(csv)\n",
    "\n",
    "df"
   ]
  },
  {
   "cell_type": "code",
   "execution_count": 15,
   "id": "9a41d8de",
   "metadata": {},
   "outputs": [
    {
     "data": {
      "text/html": [
       "<div>\n",
       "<style scoped>\n",
       "    .dataframe tbody tr th:only-of-type {\n",
       "        vertical-align: middle;\n",
       "    }\n",
       "\n",
       "    .dataframe tbody tr th {\n",
       "        vertical-align: top;\n",
       "    }\n",
       "\n",
       "    .dataframe thead th {\n",
       "        text-align: right;\n",
       "    }\n",
       "</style>\n",
       "<table border=\"1\" class=\"dataframe\">\n",
       "  <thead>\n",
       "    <tr style=\"text-align: right;\">\n",
       "      <th></th>\n",
       "      <th>Review</th>\n",
       "      <th>Rating</th>\n",
       "    </tr>\n",
       "  </thead>\n",
       "  <tbody>\n",
       "    <tr>\n",
       "      <th>0</th>\n",
       "      <td>nice hotel expensive parking got good deal sta...</td>\n",
       "      <td>4</td>\n",
       "    </tr>\n",
       "    <tr>\n",
       "      <th>1</th>\n",
       "      <td>ok nothing special charge diamond member hilto...</td>\n",
       "      <td>2</td>\n",
       "    </tr>\n",
       "    <tr>\n",
       "      <th>2</th>\n",
       "      <td>nice rooms not 4* experience hotel monaco seat...</td>\n",
       "      <td>3</td>\n",
       "    </tr>\n",
       "    <tr>\n",
       "      <th>3</th>\n",
       "      <td>unique, great stay, wonderful time hotel monac...</td>\n",
       "      <td>5</td>\n",
       "    </tr>\n",
       "    <tr>\n",
       "      <th>4</th>\n",
       "      <td>great stay great stay, went seahawk game aweso...</td>\n",
       "      <td>5</td>\n",
       "    </tr>\n",
       "  </tbody>\n",
       "</table>\n",
       "</div>"
      ],
      "text/plain": [
       "                                              Review  Rating\n",
       "0  nice hotel expensive parking got good deal sta...       4\n",
       "1  ok nothing special charge diamond member hilto...       2\n",
       "2  nice rooms not 4* experience hotel monaco seat...       3\n",
       "3  unique, great stay, wonderful time hotel monac...       5\n",
       "4  great stay great stay, went seahawk game aweso...       5"
      ]
     },
     "execution_count": 15,
     "metadata": {},
     "output_type": "execute_result"
    }
   ],
   "source": [
    "#Mostrar los primeros 5\n",
    "df.head()"
   ]
  },
  {
   "cell_type": "code",
   "execution_count": 16,
   "id": "6c500f3b",
   "metadata": {},
   "outputs": [
    {
     "data": {
      "text/html": [
       "<div>\n",
       "<style scoped>\n",
       "    .dataframe tbody tr th:only-of-type {\n",
       "        vertical-align: middle;\n",
       "    }\n",
       "\n",
       "    .dataframe tbody tr th {\n",
       "        vertical-align: top;\n",
       "    }\n",
       "\n",
       "    .dataframe thead th {\n",
       "        text-align: right;\n",
       "    }\n",
       "</style>\n",
       "<table border=\"1\" class=\"dataframe\">\n",
       "  <thead>\n",
       "    <tr style=\"text-align: right;\">\n",
       "      <th></th>\n",
       "      <th>Review</th>\n",
       "      <th>Rating</th>\n",
       "    </tr>\n",
       "  </thead>\n",
       "  <tbody>\n",
       "    <tr>\n",
       "      <th>0</th>\n",
       "      <td>nice hotel expensive parking got good deal sta...</td>\n",
       "      <td>4</td>\n",
       "    </tr>\n",
       "    <tr>\n",
       "      <th>1</th>\n",
       "      <td>ok nothing special charge diamond member hilto...</td>\n",
       "      <td>2</td>\n",
       "    </tr>\n",
       "    <tr>\n",
       "      <th>2</th>\n",
       "      <td>nice rooms not 4* experience hotel monaco seat...</td>\n",
       "      <td>3</td>\n",
       "    </tr>\n",
       "    <tr>\n",
       "      <th>3</th>\n",
       "      <td>unique, great stay, wonderful time hotel monac...</td>\n",
       "      <td>5</td>\n",
       "    </tr>\n",
       "    <tr>\n",
       "      <th>4</th>\n",
       "      <td>great stay great stay, went seahawk game aweso...</td>\n",
       "      <td>5</td>\n",
       "    </tr>\n",
       "    <tr>\n",
       "      <th>...</th>\n",
       "      <td>...</td>\n",
       "      <td>...</td>\n",
       "    </tr>\n",
       "    <tr>\n",
       "      <th>20486</th>\n",
       "      <td>best kept secret 3rd time staying charm, not 5...</td>\n",
       "      <td>5</td>\n",
       "    </tr>\n",
       "    <tr>\n",
       "      <th>20487</th>\n",
       "      <td>great location price view hotel great quick pl...</td>\n",
       "      <td>4</td>\n",
       "    </tr>\n",
       "    <tr>\n",
       "      <th>20488</th>\n",
       "      <td>ok just looks nice modern outside, desk staff ...</td>\n",
       "      <td>2</td>\n",
       "    </tr>\n",
       "    <tr>\n",
       "      <th>20489</th>\n",
       "      <td>hotel theft ruined vacation hotel opened sept ...</td>\n",
       "      <td>1</td>\n",
       "    </tr>\n",
       "    <tr>\n",
       "      <th>20490</th>\n",
       "      <td>people talking, ca n't believe excellent ratin...</td>\n",
       "      <td>2</td>\n",
       "    </tr>\n",
       "  </tbody>\n",
       "</table>\n",
       "<p>20491 rows × 2 columns</p>\n",
       "</div>"
      ],
      "text/plain": [
       "                                                  Review  Rating\n",
       "0      nice hotel expensive parking got good deal sta...       4\n",
       "1      ok nothing special charge diamond member hilto...       2\n",
       "2      nice rooms not 4* experience hotel monaco seat...       3\n",
       "3      unique, great stay, wonderful time hotel monac...       5\n",
       "4      great stay great stay, went seahawk game aweso...       5\n",
       "...                                                  ...     ...\n",
       "20486  best kept secret 3rd time staying charm, not 5...       5\n",
       "20487  great location price view hotel great quick pl...       4\n",
       "20488  ok just looks nice modern outside, desk staff ...       2\n",
       "20489  hotel theft ruined vacation hotel opened sept ...       1\n",
       "20490  people talking, ca n't believe excellent ratin...       2\n",
       "\n",
       "[20491 rows x 2 columns]"
      ]
     },
     "execution_count": 16,
     "metadata": {},
     "output_type": "execute_result"
    }
   ],
   "source": [
    "# Eliminar los datos nulos\n",
    "df = df.dropna(how='any',axis=0) \n",
    "df.dropna(how = 'all')\n",
    "df"
   ]
  },
  {
   "cell_type": "code",
   "execution_count": 17,
   "id": "4481b232",
   "metadata": {},
   "outputs": [
    {
     "name": "stdout",
     "output_type": "stream",
     "text": [
      "5    9054\n",
      "4    6039\n",
      "3    2184\n",
      "2    1793\n",
      "1    1421\n",
      "Name: Rating, dtype: int64\n"
     ]
    }
   ],
   "source": [
    "#Cantidad de valor que hay por ranting\n",
    "print(df.Rating.value_counts())"
   ]
  },
  {
   "cell_type": "markdown",
   "id": "afdd9993",
   "metadata": {},
   "source": [
    "Como se puede ver en el bloque anterior los datos que tenemos no están balanceados ya que se puede que la cantidad de reviews con rating 5 es como 5 veces más que rating 1. Para que los datos sean balanceados solo vamos a utilizar 1421 de cada clase"
   ]
  },
  {
   "cell_type": "code",
   "execution_count": 18,
   "id": "04ad890b",
   "metadata": {},
   "outputs": [],
   "source": [
    "#Balancear los datos ya que la cantidad que hay de rating 5 es como 5 veces que de rating 1\n",
    "df2 = df.groupby('Rating')\n",
    "df2 = df2.apply(lambda x: x.sample(df2.size().min()).reset_index(drop=True))"
   ]
  },
  {
   "cell_type": "markdown",
   "id": "ad25d0f4",
   "metadata": {},
   "source": [
    "Decidimos agregar una columna más para revisar el largo de cada review "
   ]
  },
  {
   "cell_type": "code",
   "execution_count": 19,
   "id": "06d4fb4e",
   "metadata": {},
   "outputs": [
    {
     "data": {
      "text/html": [
       "<div>\n",
       "<style scoped>\n",
       "    .dataframe tbody tr th:only-of-type {\n",
       "        vertical-align: middle;\n",
       "    }\n",
       "\n",
       "    .dataframe tbody tr th {\n",
       "        vertical-align: top;\n",
       "    }\n",
       "\n",
       "    .dataframe thead th {\n",
       "        text-align: right;\n",
       "    }\n",
       "</style>\n",
       "<table border=\"1\" class=\"dataframe\">\n",
       "  <thead>\n",
       "    <tr style=\"text-align: right;\">\n",
       "      <th></th>\n",
       "      <th>Review</th>\n",
       "      <th>Rating</th>\n",
       "      <th>Review_Length</th>\n",
       "    </tr>\n",
       "  </thead>\n",
       "  <tbody>\n",
       "    <tr>\n",
       "      <th>0</th>\n",
       "      <td>nice hotel expensive parking got good deal sta...</td>\n",
       "      <td>4</td>\n",
       "      <td>87</td>\n",
       "    </tr>\n",
       "    <tr>\n",
       "      <th>1</th>\n",
       "      <td>ok nothing special charge diamond member hilto...</td>\n",
       "      <td>2</td>\n",
       "      <td>250</td>\n",
       "    </tr>\n",
       "    <tr>\n",
       "      <th>2</th>\n",
       "      <td>nice rooms not 4* experience hotel monaco seat...</td>\n",
       "      <td>3</td>\n",
       "      <td>217</td>\n",
       "    </tr>\n",
       "    <tr>\n",
       "      <th>3</th>\n",
       "      <td>unique, great stay, wonderful time hotel monac...</td>\n",
       "      <td>5</td>\n",
       "      <td>89</td>\n",
       "    </tr>\n",
       "    <tr>\n",
       "      <th>4</th>\n",
       "      <td>great stay great stay, went seahawk game aweso...</td>\n",
       "      <td>5</td>\n",
       "      <td>191</td>\n",
       "    </tr>\n",
       "  </tbody>\n",
       "</table>\n",
       "</div>"
      ],
      "text/plain": [
       "                                              Review  Rating  Review_Length\n",
       "0  nice hotel expensive parking got good deal sta...       4             87\n",
       "1  ok nothing special charge diamond member hilto...       2            250\n",
       "2  nice rooms not 4* experience hotel monaco seat...       3            217\n",
       "3  unique, great stay, wonderful time hotel monac...       5             89\n",
       "4  great stay great stay, went seahawk game aweso...       5            191"
      ]
     },
     "execution_count": 19,
     "metadata": {},
     "output_type": "execute_result"
    }
   ],
   "source": [
    "#Agregamos una columna más para ver el largo de cada review\n",
    "df['Review_Length'] = df['Review'].apply(lambda x: len(x.split()))\n",
    "df.head()"
   ]
  },
  {
   "cell_type": "code",
   "execution_count": 20,
   "id": "74480c9d",
   "metadata": {},
   "outputs": [
    {
     "data": {
      "text/html": [
       "<div>\n",
       "<style scoped>\n",
       "    .dataframe tbody tr th:only-of-type {\n",
       "        vertical-align: middle;\n",
       "    }\n",
       "\n",
       "    .dataframe tbody tr th {\n",
       "        vertical-align: top;\n",
       "    }\n",
       "\n",
       "    .dataframe thead th {\n",
       "        text-align: right;\n",
       "    }\n",
       "</style>\n",
       "<table border=\"1\" class=\"dataframe\">\n",
       "  <thead>\n",
       "    <tr style=\"text-align: right;\">\n",
       "      <th></th>\n",
       "      <th>Review</th>\n",
       "      <th>Rating</th>\n",
       "      <th>Review_Length</th>\n",
       "    </tr>\n",
       "  </thead>\n",
       "  <tbody>\n",
       "    <tr>\n",
       "      <th>0</th>\n",
       "      <td>nice hotel expensive parking got good deal sta...</td>\n",
       "      <td>4</td>\n",
       "      <td>87</td>\n",
       "    </tr>\n",
       "    <tr>\n",
       "      <th>1</th>\n",
       "      <td>ok nothing special charge diamond member hilto...</td>\n",
       "      <td>2</td>\n",
       "      <td>250</td>\n",
       "    </tr>\n",
       "    <tr>\n",
       "      <th>2</th>\n",
       "      <td>nice rooms not 4* experience hotel monaco seat...</td>\n",
       "      <td>3</td>\n",
       "      <td>217</td>\n",
       "    </tr>\n",
       "    <tr>\n",
       "      <th>3</th>\n",
       "      <td>unique, great stay, wonderful time hotel monac...</td>\n",
       "      <td>5</td>\n",
       "      <td>89</td>\n",
       "    </tr>\n",
       "    <tr>\n",
       "      <th>4</th>\n",
       "      <td>great stay great stay, went seahawk game aweso...</td>\n",
       "      <td>5</td>\n",
       "      <td>191</td>\n",
       "    </tr>\n",
       "    <tr>\n",
       "      <th>...</th>\n",
       "      <td>...</td>\n",
       "      <td>...</td>\n",
       "      <td>...</td>\n",
       "    </tr>\n",
       "    <tr>\n",
       "      <th>20486</th>\n",
       "      <td>best kept secret 3rd time staying charm, not 5...</td>\n",
       "      <td>5</td>\n",
       "      <td>109</td>\n",
       "    </tr>\n",
       "    <tr>\n",
       "      <th>20487</th>\n",
       "      <td>great location price view hotel great quick pl...</td>\n",
       "      <td>4</td>\n",
       "      <td>39</td>\n",
       "    </tr>\n",
       "    <tr>\n",
       "      <th>20488</th>\n",
       "      <td>ok just looks nice modern outside, desk staff ...</td>\n",
       "      <td>2</td>\n",
       "      <td>63</td>\n",
       "    </tr>\n",
       "    <tr>\n",
       "      <th>20489</th>\n",
       "      <td>hotel theft ruined vacation hotel opened sept ...</td>\n",
       "      <td>1</td>\n",
       "      <td>781</td>\n",
       "    </tr>\n",
       "    <tr>\n",
       "      <th>20490</th>\n",
       "      <td>people talking, ca n't believe excellent ratin...</td>\n",
       "      <td>2</td>\n",
       "      <td>90</td>\n",
       "    </tr>\n",
       "  </tbody>\n",
       "</table>\n",
       "<p>20469 rows × 3 columns</p>\n",
       "</div>"
      ],
      "text/plain": [
       "                                                  Review  Rating  \\\n",
       "0      nice hotel expensive parking got good deal sta...       4   \n",
       "1      ok nothing special charge diamond member hilto...       2   \n",
       "2      nice rooms not 4* experience hotel monaco seat...       3   \n",
       "3      unique, great stay, wonderful time hotel monac...       5   \n",
       "4      great stay great stay, went seahawk game aweso...       5   \n",
       "...                                                  ...     ...   \n",
       "20486  best kept secret 3rd time staying charm, not 5...       5   \n",
       "20487  great location price view hotel great quick pl...       4   \n",
       "20488  ok just looks nice modern outside, desk staff ...       2   \n",
       "20489  hotel theft ruined vacation hotel opened sept ...       1   \n",
       "20490  people talking, ca n't believe excellent ratin...       2   \n",
       "\n",
       "       Review_Length  \n",
       "0                 87  \n",
       "1                250  \n",
       "2                217  \n",
       "3                 89  \n",
       "4                191  \n",
       "...              ...  \n",
       "20486            109  \n",
       "20487             39  \n",
       "20488             63  \n",
       "20489            781  \n",
       "20490             90  \n",
       "\n",
       "[20469 rows x 3 columns]"
      ]
     },
     "execution_count": 20,
     "metadata": {},
     "output_type": "execute_result"
    }
   ],
   "source": [
    "#Con la columna que se agregó antes eliminar aquellas reviews que tienen largo menores que 10\n",
    "df = df[df['Review_Length'] > 10]\n",
    "df"
   ]
  },
  {
   "cell_type": "code",
   "execution_count": 21,
   "id": "c5267c5d",
   "metadata": {},
   "outputs": [],
   "source": [
    "#Función: process_string\n",
    "#Dominio: string\n",
    "#Codominio: string\n",
    "#Esta función se encarga de procesar el string \n",
    "def preprocess_string(string):\n",
    "    # Remove all non-word characters (everything except numbers and letters)\n",
    "    string = re.sub(r\"[^\\w\\s]\", '', string)\n",
    "    # Replace all runs of whitespaces with no space\n",
    "    string = re.sub(r\"\\s+\", '', string)\n",
    "    # replace digits with no space\n",
    "    string = re.sub(r\"\\d\", '', string)\n",
    "\n",
    "    return string\n",
    "\n",
    "#Función: tockenize\n",
    "#Dominio: recibe los datos seperados de trainings y de prueba\n",
    "#Codominio: string\n",
    "#Esta función se encarga de procesar el string y eliminar las palabras stopwords\n",
    "def tockenize(x_train,y_train,x_val,y_val):\n",
    "    word_list = []\n",
    "\n",
    "    stop_words = set(stopwords.words('english')) \n",
    "    for sent in x_train:\n",
    "        for word in sent.lower().split():\n",
    "            word = preprocess_string(word)\n",
    "            if word not in stop_words and word != '':\n",
    "                word_list.append(word)\n",
    "  \n",
    "    corpus = Counter(word_list)\n",
    "    # sorting on the basis of most common words\n",
    "    corpus_ = sorted(corpus,key=corpus.get,reverse=True)[:1000]\n",
    "    # creating a dict\n",
    "    onehot_dict = {w:i+1 for i,w in enumerate(corpus_)}\n",
    "    \n",
    "    # tockenize\n",
    "    final_list_train,final_list_test = [],[]\n",
    "    for sent in x_train:\n",
    "            final_list_train.append([onehot_dict[preprocess_string(word)] for word in sent.lower().split() \n",
    "                                     if preprocess_string(word) in onehot_dict.keys()])\n",
    "    for sent in x_val:\n",
    "            final_list_test.append([onehot_dict[preprocess_string(word)] for word in sent.lower().split() \n",
    "                                    if preprocess_string(word) in onehot_dict.keys()])\n",
    "            \n",
    "    return np.array(final_list_train), np.array(y_train),np.array(final_list_test), np.array(y_val),onehot_dict\n",
    "\n",
    "#Función: padding\n",
    "#Dominio: recibe oraciones y largo de secuencia\n",
    "#Codominio:list\n",
    "#Esta función se encarga de agregar padding \n",
    "def padding(sentences, seq_len):\n",
    "    features = np.zeros((len(sentences), seq_len),dtype=int)\n",
    "    for ii, review in enumerate(sentences):\n",
    "        if len(review) != 0:\n",
    "            features[ii, -len(review):] = np.array(review)[:seq_len]\n",
    "    return features\n",
    "\n",
    "\n",
    "#Función: accurac\n",
    "#Dominio: recibe prediccion y etiqueta original\n",
    "#Codominio: numero natural \n",
    "#Esta función se encarga de calcular accuracy\n",
    "def accurac(pred,label):\n",
    "    pred = torch.round(pred.squeeze())\n",
    "    return torch.sum(pred == label.squeeze()).item()\n",
    "\n",
    "#Función: predict_text\n",
    "#Dominio: recibe el texto\n",
    "#Codominio: numero natural \n",
    "#Esta función predecir un texto y en este caso el review\n",
    "def predict_text(text):\n",
    "        word_seq = np.array([vocab[preprocess_string(word)] for word in text.split() if preprocess_string(word) in vocab.keys()])\n",
    "        word_seq = np.expand_dims(word_seq,axis=0)\n",
    "        pad =  torch.from_numpy(padding(word_seq,300))\n",
    "        inputs = pad.to(device)\n",
    "        batch_size = 1\n",
    "        h = model.init_hidden(batch_size)\n",
    "        h = tuple([each.data for each in h])\n",
    "        ans, h = model(inputs, h)\n",
    "        return(ans.item())\n",
    "\n",
    "#Función: calculate\n",
    "#Dominio: recibe el texto\n",
    "#Codominio: numero natural \n",
    "#Esta función llama a la función de predecir texto\n",
    "def calculate(text):\n",
    "    prob = predict_text(text)\n",
    "    rating = int((prob * 10) // 2)\n",
    "    return rating"
   ]
  },
  {
   "cell_type": "markdown",
   "id": "a1b51b06",
   "metadata": {},
   "source": [
    "Solo vamos a utilizar 500 datos para entrenamiento"
   ]
  },
  {
   "cell_type": "code",
   "execution_count": 22,
   "id": "d53697dc",
   "metadata": {},
   "outputs": [
    {
     "name": "stderr",
     "output_type": "stream",
     "text": [
      "<ipython-input-21-9420f0e2df54>:44: VisibleDeprecationWarning: Creating an ndarray from ragged nested sequences (which is a list-or-tuple of lists-or-tuples-or ndarrays with different lengths or shapes) is deprecated. If you meant to do this, you must specify 'dtype=object' when creating the ndarray.\n",
      "  return np.array(final_list_train), np.array(y_train),np.array(final_list_test), np.array(y_val),onehot_dict\n"
     ]
    }
   ],
   "source": [
    "#Tockeanizar los valores\n",
    "x = df2['Review'].values\n",
    "y = df2['Rating'].values\n",
    "x_train_n,x_test_n,y_trai_n,y_test_n = train_test_split(x,y,test_size = 0.1)\n",
    "x_train,y_train,x_test,y_test,vocab = tockenize(x_train_n,y_trai_n,x_test_n,y_test_n)\n",
    "#Shuffle the data\n",
    "#x_train = random.shuffle(x_train)\n",
    "#y_train = random.shuffle(y_train)\n",
    "# Oraciones a vectores en R300\n",
    "x_train=x_train[:500]\n",
    "y_train=y_train[:500]\n",
    "x_train_pad = padding(x_train,300)\n",
    "x_test_pad = padding(x_test,300)\n",
    "x_test_pad.shape\n",
    "# create Tensor datasets\n",
    "train_data = TensorDataset(torch.from_numpy(x_train_pad), torch.from_numpy(y_train))\n",
    "valid_data = TensorDataset(torch.from_numpy(x_test_pad), torch.from_numpy(y_test))\n",
    "batch_size = 50\n",
    "#suffle the data\n",
    "train_loader = DataLoader(train_data, shuffle=True, batch_size=batch_size, drop_last=True)\n",
    "valid_loader = DataLoader(valid_data, shuffle=True, batch_size=batch_size, drop_last=True)"
   ]
  },
  {
   "cell_type": "markdown",
   "id": "c1a17103",
   "metadata": {},
   "source": [
    "La siguiente es una RNN para análisis de sentimientos:"
   ]
  },
  {
   "cell_type": "code",
   "execution_count": 23,
   "id": "a3a75dbc",
   "metadata": {},
   "outputs": [],
   "source": [
    "class SentimentRNN(nn.Module):\n",
    "    def __init__(self,no_layers,vocab_size,hidden_dim,embedding_dim,drop_prob=0.5):\n",
    "        super(SentimentRNN,self).__init__()\n",
    " \n",
    "        self.output_dim = output_dim\n",
    "        self.hidden_dim = hidden_dim\n",
    " \n",
    "        self.no_layers = no_layers\n",
    "        self.vocab_size = vocab_size\n",
    "    \n",
    "        # capas de incrustación y LSTM\n",
    "        self.embedding = nn.Embedding(vocab_size, embedding_dim)\n",
    "        \n",
    "        #lstm\n",
    "        self.lstm = nn.LSTM(input_size=embedding_dim,hidden_size=self.hidden_dim,\n",
    "                           num_layers=no_layers, batch_first=True)\n",
    "        # eliminar capas\n",
    "        self.dropout = nn.Dropout(0.3)\n",
    "    \n",
    "        # Capa linear y sigmoid \n",
    "        self.fc = nn.Linear(self.hidden_dim, output_dim)\n",
    "        self.sig = nn.Sigmoid()\n",
    "        \n",
    "    def forward(self,x,hidden):\n",
    "        batch_size = x.size(0)\n",
    "        # embeddings and lstm_out\n",
    "        embeds = self.embedding(x)  # shape: B x S x Feature   since batch = True\n",
    "        #print(embeds.shape)  #[50, 500, 1000]\n",
    "        lstm_out, hidden = self.lstm(embeds, hidden)\n",
    "        \n",
    "        lstm_out = lstm_out.contiguous().view(-1, self.hidden_dim) \n",
    "        \n",
    "        # dropout and fully connected layer\n",
    "        out = self.dropout(lstm_out)\n",
    "        out = self.fc(out)\n",
    "        \n",
    "        # sigmoid function and reshape to be batch_size first\n",
    "        sig_out = self.sig(out)\n",
    "        sig_out = sig_out.view(batch_size, -1)\n",
    "        sig_out = sig_out[:, -1] # get last batch of labels\n",
    "        \n",
    "        return sig_out, hidden    # return last sigmoid output and hidden state     \n",
    "        \n",
    "    def init_hidden(self, batch_size):\n",
    "        ''' Initializes hidden state '''\n",
    "        # Crear dos nuevos tensores con tamaños n_layers x batch_size x hidden_dim,\n",
    "        # inicializado a cero, para el estado oculto y el estado de la célula de LSTM\n",
    "        h0 = torch.zeros((self.no_layers,batch_size,self.hidden_dim)).to(device)\n",
    "        c0 = torch.zeros((self.no_layers,batch_size,self.hidden_dim)).to(device)\n",
    "        hidden = (h0,c0)\n",
    "        return hidden"
   ]
  },
  {
   "cell_type": "code",
   "execution_count": 24,
   "id": "0a02f67e",
   "metadata": {},
   "outputs": [
    {
     "name": "stdout",
     "output_type": "stream",
     "text": [
      "SentimentRNN(\n",
      "  (embedding): Embedding(1001, 64)\n",
      "  (lstm): LSTM(64, 512, num_layers=2, batch_first=True)\n",
      "  (dropout): Dropout(p=0.3, inplace=False)\n",
      "  (fc): Linear(in_features=512, out_features=1, bias=True)\n",
      "  (sig): Sigmoid()\n",
      ")\n"
     ]
    }
   ],
   "source": [
    "#Definir los hiperparametros\n",
    "no_layers = 2\n",
    "embedding_dim = 64\n",
    "output_dim = 1\n",
    "hidden_dim = 512\n",
    "vocab_size = len(vocab) + 1 #extra 1 for padding\n",
    "#Ajustar modelo\n",
    "model = SentimentRNN(no_layers,vocab_size,hidden_dim,embedding_dim,drop_prob=0.5)\n",
    "model.to(device)\n",
    "print(model)\n",
    "# Función de optimizar y con tolerancia de 0.001\n",
    "lr=0.001\n",
    "criterion = nn.BCELoss()\n",
    "optimizer = torch.optim.Adam(model.parameters(), lr=lr)\n",
    "clip = 5\n",
    "valid_loss_min = np.Inf\n",
    "epoch_tr_loss,epoch_vl_loss = [],[]\n",
    "epoch_tr_acc,epoch_vl_acc = [],[]"
   ]
  },
  {
   "cell_type": "code",
   "execution_count": 25,
   "id": "65428a44",
   "metadata": {},
   "outputs": [
    {
     "name": "stdout",
     "output_type": "stream",
     "text": [
      "Epoch 1\n",
      "train_loss : -10.330084676481784 val_loss : -24.805293083190918\n",
      "train_accuracy : 16.8 val_accuracy : 20.253164556962027\n",
      "Validation loss decreased (inf --> -24.805).  Saving model ...\n",
      "-------------------------------------------------------\n",
      "Epoch 2\n",
      "train_loss : -67.6880931854248 val_loss : -196.0\n",
      "train_accuracy : 18.2 val_accuracy : 20.393811533052038\n",
      "Validation loss decreased (-24.805 --> -196.000).  Saving model ...\n",
      "-------------------------------------------------------\n",
      "Epoch 3\n",
      "train_loss : -199.0 val_loss : -197.0\n",
      "train_accuracy : 18.2 val_accuracy : 19.971870604781998\n",
      "Validation loss decreased (-196.000 --> -197.000).  Saving model ...\n",
      "-------------------------------------------------------\n"
     ]
    }
   ],
   "source": [
    "epochs = 3\n",
    "for epoch in range(epochs):\n",
    "    train_losses = []\n",
    "    train_acc = 0.0\n",
    "    model.train()\n",
    "    # initialize hidden state \n",
    "    h = model.init_hidden(batch_size)\n",
    "    for inputs, labels in train_loader:\n",
    "        # Crear nuevas variables para el estado oculto, de lo contrario\n",
    "        # pasaríamos por todo el historial de entrenamiento\n",
    "        inputs, labels = inputs.to(device), labels.to(device)   \n",
    "        h = tuple([each.data for each in h])\n",
    "        model.zero_grad()\n",
    "        output,h = model(inputs,h)\n",
    "        #Calcular la perdida y accuracy\n",
    "        loss = criterion(output.squeeze(), labels.float())\n",
    "        loss.backward()\n",
    "        train_losses.append(loss.item())\n",
    "        accuracy = accurac(output,labels)\n",
    "        train_acc += accuracy\n",
    "        #`clip_grad_norm` helps prevent the exploding gradient problem in RNNs / LSTMs.\n",
    "        nn.utils.clip_grad_norm_(model.parameters(), clip)\n",
    "        optimizer.step()\n",
    " \n",
    "    val_h = model.init_hidden(batch_size)\n",
    "    val_losses = []\n",
    "    val_acc = 0.0\n",
    "    model.eval()\n",
    "    for inputs, labels in valid_loader:\n",
    "            val_h = tuple([each.data for each in val_h])\n",
    "            inputs, labels = inputs.to(device), labels.to(device)\n",
    "            output, val_h = model(inputs, val_h)\n",
    "            val_loss = criterion(output.squeeze(), labels.float())\n",
    "            val_losses.append(val_loss.item())\n",
    "            accuracy = accurac(output,labels)\n",
    "            val_acc += accuracy\n",
    "            \n",
    "    epoch_train_loss = np.mean(train_losses)\n",
    "    epoch_val_loss = np.mean(val_losses)\n",
    "    epoch_train_acc = train_acc/len(train_loader.dataset)\n",
    "    epoch_val_acc = val_acc/len(valid_loader.dataset)\n",
    "    epoch_tr_loss.append(epoch_train_loss)\n",
    "    epoch_vl_loss.append(epoch_val_loss)\n",
    "    epoch_tr_acc.append(epoch_train_acc)\n",
    "    epoch_vl_acc.append(epoch_val_acc)\n",
    "    print(f'Epoch {epoch+1}') \n",
    "    print(f'train_loss : {epoch_train_loss} val_loss : {epoch_val_loss}')\n",
    "    print(f'train_accuracy : {epoch_train_acc*100} val_accuracy : {epoch_val_acc*100}')\n",
    "    if epoch_val_loss <= valid_loss_min:\n",
    "        #torch.save(model.review(), 'review.pt')\n",
    "        print('Validation loss decreased ({:.3f} --> {:.3f}).  Saving model ...'.format(valid_loss_min,epoch_val_loss))\n",
    "        valid_loss_min = epoch_val_loss\n",
    "    print('-------------------------------------------------------')"
   ]
  },
  {
   "cell_type": "code",
   "execution_count": 26,
   "id": "0e951dd5",
   "metadata": {},
   "outputs": [
    {
     "data": {
      "image/png": "[encoded data removed]",
      "text/plain": [
       "<Figure size 1440x432 with 2 Axes>"
      ]
     },
     "metadata": {
      "needs_background": "light"
     },
     "output_type": "display_data"
    }
   ],
   "source": [
    "#Gráfica de accuracy\n",
    "fig = plt.figure(figsize = (20, 6))\n",
    "plt.subplot(1, 2, 1)\n",
    "plt.plot(epoch_tr_acc, label='Train Acc')\n",
    "plt.plot(epoch_vl_acc, label='Validation Acc')\n",
    "plt.title(\"Accuracy\")\n",
    "plt.legend()\n",
    "plt.grid()\n",
    "#Gráfica de pèrdida\n",
    "plt.subplot(1, 2, 2)\n",
    "plt.plot(epoch_tr_loss, label='Train loss')\n",
    "plt.plot(epoch_vl_loss, label='Validation loss')\n",
    "plt.title(\"Loss\")\n",
    "plt.legend()\n",
    "plt.grid()\n",
    "\n",
    "plt.show()"
   ]
  },
  {
   "cell_type": "markdown",
   "id": "075bfd10",
   "metadata": {},
   "source": [
    "##### Algunas pruebas realizadas:"
   ]
  },
  {
   "cell_type": "code",
   "execution_count": 27,
   "id": "cc79bf37",
   "metadata": {},
   "outputs": [
    {
     "name": "stdout",
     "output_type": "stream",
     "text": [
      "love monaco staff husband stayed hotel crazy weekend attending memorial service best friend husband celebrating 12th wedding anniversary, talk mixed emotions, booked suite hotel monte carlos, loaned beautiful fan-tanned goldfish named joliet weekend visited dogs worked desk human companions, room decorated nicely couch used pillows, l'occitane bath amenities welcome sight, room quiet peaceful, wireless internet access wonderful server went morning leaving problems printing boarding passes, afternoon reception serves oenophile-satisfying wine australia scrumptious cookies, restaurant closed renovation stay finally ate food good drinks better, word caution restaurant larger person not sit booths wo n't fit, 5'6 125 lbs husband 5'9 175. table smack-against stomach couple inches space mighty uncomfortable patron larger pregnant, bad design opinion place decorated funky welcoming way metal wood handblown glass light fixtures expect seattle capital glass art industry, definitely stay reason,  \n",
      "-------------------------------------------------------\n",
      "Rating original es: 5\n",
      "-------------------------------------------------------\n",
      "El resultado de predicción: 5\n"
     ]
    }
   ],
   "source": [
    "index = 5\n",
    "print(df['Review'][index])\n",
    "print('-------------------------------------------------------')\n",
    "print(f'Rating original es: {df[\"Rating\"][index]}')\n",
    "print('-------------------------------------------------------')\n",
    "pro = predict_text(df['Review'][index])\n",
    "status = int((pro * 10) // 2)\n",
    "print(f'El resultado de predicción: {status}')"
   ]
  },
  {
   "cell_type": "code",
   "execution_count": 28,
   "id": "d5a4f3bd",
   "metadata": {},
   "outputs": [
    {
     "name": "stdout",
     "output_type": "stream",
     "text": [
      "nice hotel good location hotel kimpton design whimsical vibe fun, staff young casual problem hotel busy stay friendly helpful, group reserved rooms gave connecting rooms fuss, not busy week.the rooms decent size not huge pretty average city hotel, beds nice bathrooms clean bright pocket doors ideal busy bathroom, room design bright cheery flat panel tv, location little noisy fine 5th floor, location convenient walkable attractions new central library sam art museum benaroya concert hall pike place market, parking steep 29/night, evening wine receptions popular,  \n",
      "-------------------------------------------------------\n",
      "Rating original es: 4\n",
      "-------------------------------------------------------\n",
      "El resultado de predicción: 5\n"
     ]
    }
   ],
   "source": [
    "index = 12\n",
    "print(df['Review'][index])\n",
    "print('-------------------------------------------------------')\n",
    "print(f'Rating original es: {df[\"Rating\"][index]}')\n",
    "print('-------------------------------------------------------')\n",
    "pro = predict_text(df['Review'][index])\n",
    "status = int((pro * 10) // 2)\n",
    "print(f'El resultado de predicción: {status}')"
   ]
  },
  {
   "cell_type": "code",
   "execution_count": 29,
   "id": "bf7c87b9",
   "metadata": {},
   "outputs": [
    {
     "name": "stdout",
     "output_type": "stream",
     "text": [
      "great hotel night quick business trip, loved little touches like goldfish leopard print robe, complaint wifi complimentary not internet access business center, great location library service fabulous,  \n",
      "-------------------------------------------------------\n",
      "Rating original es: 4\n",
      "-------------------------------------------------------\n",
      "El resultado de predicción: 5\n"
     ]
    }
   ],
   "source": [
    "index = 14\n",
    "print(df['Review'][index])\n",
    "print('-------------------------------------------------------')\n",
    "print(f'Rating original es: {df[\"Rating\"][index]}')\n",
    "print('-------------------------------------------------------')\n",
    "pro = predict_text(df['Review'][index])\n",
    "status = int((pro * 10) // 2)\n",
    "pro = predict_text(df['Review'][index])\n",
    "print(f'El resultado de predicción: {status}')"
   ]
  },
  {
   "cell_type": "markdown",
   "id": "032020dd",
   "metadata": {},
   "source": [
    "##### Análisis de resultados"
   ]
  },
  {
   "cell_type": "markdown",
   "id": "d626d92d",
   "metadata": {},
   "source": [
    "Los resultados obtenidos no son tan buenos como esperábamos, creemos que la causa es porque no hizo un buen preprocesamiento de datos y el modelo no cuenta con los hiperparámetros más adecuados para el entrenamiento. A lo largo de este proyecto, estuvimos probando diferentes hiperparámetros, y el que más afecta el número de época, ya que si el número de época es un valor grande posiblemente el resultado sea mejor, ya que el modelo se va a ir mejorando a través de diferentes capas.Al mismo tiempo creemos que los datos de entrenamientos que se utlizaron fueron muy pocos ya que solo utilizamos 500 y con las pruebas vimos que mientras más grande sea la cantidad de datos la prueba mejora. \n",
    "\n",
    "Por otro lado, creemos que esto puede ser debido a que hay palabras que se pueden interpretar de diferentes maneras y esto llega afectar el análisis de sentimiento.Nos dimos cuenta de que los resultados fueron afectados debido inadecuada limpieza y procesamiento de datos, ya que después de eliminar los reviews que son de menos de 10 palabras, el resultado mejoró. "
   ]
  },
  {
   "cell_type": "markdown",
   "id": "b0dc7724",
   "metadata": {},
   "source": [
    "### Referencias"
   ]
  },
  {
   "cell_type": "markdown",
   "id": "573d765f",
   "metadata": {},
   "source": [
    "- NLTK. (s.f.).Natural Language Toolkit. https://www.nltk.org/\n",
    "\n",
    "- Digital Guide IONOS. (2020,5 de octubre) https://www.ionos.es/digitalguide/online-marketing/analisis-web/analisis-de-sentimiento/\n",
    "\n",
    "\n",
    "- Lianne & Justin.(2020,19 de febrero).How to use NLP in Python: a Practical Step-by-Step Example. https://towardsdatascience.com/how-to-use-nlp-in-python-a-practical-step-by-step-example-bd82ca2d2e1e\n",
    "\n",
    "- Towards AI. (2020, 22 de julio). Natural Language Processing (NLP) with Python — Tutorial.\n",
    "https://towardsai.net/p/nlp/natural-language-processing-nlp-with-python-tutorial-for-beginners-1f54e610a1a0\n",
    "\n",
    "- Carnegie Mellon University. (n.d.). Retrieved from https://www.cs.cmu.edu/afs/cs.cmu.edu/project/learn-43/lib/photoz/.g/web/glossary/comb.html#:~:text=Combinatorial%20optimization%20is%20the%20process,N%2Ddimensional%20continuous%20space).\n",
    "- Eisenstein, J. (2018). Natural Language Processing . MIT Press.\n",
    "- Ernest Davis, L. M. (n.d.). New York University. Retrieved from Winograd Schemas: https://cs.nyu.edu/~davise/papers/WinogradSchemas/WS.html\n",
    "- Linguamatics. (n.d.). Retrieved from What is Text Mining, Text Analytics and Natural Language Processing?: https://www.linguamatics.com/what-text-mining-text-analytics-and-natural-language-processing\n",
    "- Maarten Sap, V. S. (n.d.). ACL Tutorials. Retrieved from Introductory Tutorial: Commonsense Reasoning for Natural Language Processing: https://aclanthology.org/2020.acl-tutorials.7.pdf\n",
    "- Manning, C. D. (2020, June 3). PNAS. Retrieved from Emergent linguistic structure in artificial neural networks trained by self-supervision: https://www.pnas.org/doi/10.1073/pnas.1907367117\n",
    "- University of York. (n.d.). Retrieved from The role of natural language processing in AI: https://online.york.ac.uk/the-role-of-natural-language-processing-in-ai/#:~:text=Natural%20language%20processing%20(NLP)%20is,a%20lot%20of%20unstructured%20data.\n",
    "- Zhiyuan Liu, Y. L. (2020). Representation Learning for Natural Language Processing. Singapore: Springer Nature Singapore Pte Ltd.\n",
    "\n"
   ]
  }
 ],
 "metadata": {
  "kernelspec": {
   "display_name": "Python 3",
   "language": "python",
   "name": "python3"
  },
  "language_info": {
   "codemirror_mode": {
    "name": "ipython",
    "version": 3
   },
   "file_extension": ".py",
   "mimetype": "text/x-python",
   "name": "python",
   "nbconvert_exporter": "python",
   "pygments_lexer": "ipython3",
   "version": "3.8.10"
  }
 },
 "nbformat": 4,
 "nbformat_minor": 5
}
